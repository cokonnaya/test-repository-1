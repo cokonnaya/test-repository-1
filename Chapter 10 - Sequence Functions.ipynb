{
 "cells": [
  {
   "cell_type": "code",
   "execution_count": null,
   "metadata": {},
   "outputs": [],
   "source": [
    "# RUN THIS COMMAND ONLY IF YOU USE GOOGLE COLAB.\n",
    "from google.colab import drive\n",
    "drive.mount('/content/drive')"
   ]
  },
  {
   "cell_type": "code",
   "execution_count": null,
   "metadata": {},
   "outputs": [],
   "source": [
    "# RUN THIS COMMAND ONLY IF YOU USE GOOGLE COLAB.\n",
    "%cd drive/MyDrive/TechLabs/01_Introduction\\ to\\ Python\\ Programming"
   ]
  },
  {
   "cell_type": "markdown",
   "metadata": {},
   "source": [
    "# Chapter 10 - Sequence Functions\n",
    "### Hey Techie,   \n",
    "Welcome to the tenth notebook of this Python tutorial series. We encourage you to take this notebook as a template to code along the instruction videos, which you may find at: https://www.youtube.com/watch?v=-MZiQaNI0QA&list=PLkdX4MYXSiDssQypMzg9goukgtVzq97nN.  Today's three videos deal with different methods that are useful for working with sequences (lists, tuples, sets, etc.). As this lecture is not part of PY4E, you can only double-check your results using the provided test cases.\n",
    "\n",
    "#### Have fun! :-)   \n",
    "*Video length in total*: 13 minutes   \n",
    "*Self-study time*: 13 minutes   \n",
    "*Total*: **26 minutes**   \n",
    "<hr style=\"border:2px solid gray\"> </hr>   \n",
    "\n",
    "## Python Enumerate Function - Python Quick Tips"
   ]
  },
  {
   "cell_type": "code",
   "execution_count": 1,
   "metadata": {},
   "outputs": [
    {
     "name": "stdout",
     "output_type": "stream",
     "text": [
      "apples\n",
      "pears\n",
      "Count is 1\n",
      "oranges\n",
      "fruits\n",
      "apples\n",
      "pears\n",
      "X is 1\n",
      "oranges\n",
      "fruits\n",
      "0 apples\n",
      "1 pears\n",
      "2 oranges\n",
      "3 fruits\n"
     ]
    }
   ],
   "source": [
    "# Enumerate Function\n",
    "# identify elements of list and indeces of these elements\n",
    "my_list = [\"apples\", \"pears\", \"oranges\", \"fruits\"]\n",
    "\n",
    "# Way 1\n",
    "count = 0\n",
    "for element in my_list: # loop through elements in list\n",
    "    print(element)\n",
    "    if count == 1:\n",
    "        print(\"Count is 1\")\n",
    "        \n",
    "    count +=1\n",
    "\n",
    "# Way 2\n",
    "for x in range(len(my_list)): # loop through indeces of list\n",
    "    print(my_list[x])\n",
    "    if x == 1:\n",
    "        print(\"X is 1\")\n",
    "\n",
    "        \n",
    "# enumerate function:\n",
    "for x, element in enumerate(my_list):\n",
    "    print(x, element)\n"
   ]
  },
  {
   "cell_type": "markdown",
   "metadata": {},
   "source": [
    "<hr style=\"border:2px solid gray\"> </hr>   \n",
    "   \n",
    "## Sorting in Python || Learn Python Programming (Computer Science)"
   ]
  },
  {
   "cell_type": "code",
   "execution_count": 14,
   "metadata": {},
   "outputs": [
    {
     "name": "stdout",
     "output_type": "stream",
     "text": [
      "['Barium', 'Beryllium', 'Calcium', 'Magnesium', 'Radium', 'Strontium']\n",
      "[('Jupiter', 71492, 1.33, 5.21), ('Saturn', 60268, 0.69, 9.551), ('Uranus', 25559, 1.27, 19.213), ('Neptune', 24764, 1.64, 30.07), ('Earth', 6378, 5.52, 1.0), ('Venus', 6052, 5.24, 0.723), ('Mars', 3396, 3.93, 1.53), ('Mercury', 244, 5.43, 0.395)]\n",
      "[('Earth', 6378, 5.52, 1.0), ('Mercury', 244, 5.43, 0.395), ('Venus', 6052, 5.24, 0.723), ('Mars', 3396, 3.93, 1.53), ('Neptune', 24764, 1.64, 30.07), ('Jupiter', 71492, 1.33, 5.21), ('Uranus', 25559, 1.27, 19.213), ('Saturn', 60268, 0.69, 9.551)]\n",
      "['Barium', 'Beryllium', 'Calcium', 'Magnesium', 'Radium', 'Strontium']\n",
      "['A', 'a', 'a', 'b', 'c', 'e', 'h', 'i', 'l', 'l', 'p', 't']\n"
     ]
    }
   ],
   "source": [
    "# Sorting data in Python\n",
    "earth_metals = [\"Beryllium\", \"Magnesium\", \"Calcium\", \n",
    "                \"Strontium\", \"Barium\", \"Radium\"]\n",
    "earth_metals.sort(reverse = False) #accending\n",
    "print(earth_metals)\n",
    "\n",
    "earth_metals_tuples = (\"Beryllium\", \"Magnesium\", \"Calcium\", \n",
    "                \"Strontium\", \"Barium\", \"Radium\")\n",
    "\n",
    "planets = [\n",
    "    (\"Mercury\", 244, 5.43, 0.395),\n",
    "    (\"Venus\", 6052, 5.24, 0.723),\n",
    "    (\"Earth\", 6378, 5.52, 1.000),\n",
    "    (\"Mars\", 3396, 3.93, 1.530),\n",
    "    (\"Jupiter\", 71492, 1.33, 5.210),\n",
    "    (\"Saturn\", 60268, 0.69, 9.551),\n",
    "    (\"Uranus\", 25559, 1.27, 19.213),\n",
    "    (\"Neptune\", 24764, 1.64, 30.070)\n",
    "]\n",
    "\n",
    "size = lambda planet: planet[1]\n",
    "planets.sort(key=size, reverse = True) # changes the list\n",
    "print(planets)\n",
    "\n",
    "density = lambda planet: planet[2]\n",
    "planets.sort(key=density, reverse = True)\n",
    "print(planets)\n",
    "\n",
    "sorted_earth_metals = sorted(earth_metals)\n",
    "print(sorted_earth_metals)\n",
    "\n",
    "# sorted can take a tuple and sort it, its output is a list\n",
    "# original tuple is unsorted\n",
    "print(sorted(\"Alphabetical\"))"
   ]
  },
  {
   "cell_type": "markdown",
   "metadata": {},
   "source": [
    "<hr style=\"border:2px solid gray\"> </hr>   \n",
    "   \n",
    "## Zip Function - Python Quick Tips"
   ]
  },
  {
   "cell_type": "code",
   "execution_count": 18,
   "metadata": {},
   "outputs": [
    {
     "name": "stdout",
     "output_type": "stream",
     "text": [
      "Same\n",
      "Not Same\n",
      "Same\n",
      "Not Same\n",
      "[(1, 1), (2, 1), (3, 3), (4, 7)]\n",
      "Same\n",
      "Not Same\n",
      "Same\n",
      "Not Same\n"
     ]
    }
   ],
   "source": [
    "# Zip Function\n",
    "x = [1,2,3,4]\n",
    "y = [1,1,3,7,9]\n",
    "z = [\"one\", \"two\"]\n",
    "for i in range(min(len(x),len(y))): # minimum lenght of both\n",
    "    if x[i] == y[i]:\n",
    "        print(\"Same\")\n",
    "    else: \n",
    "        print(\"Not Same\")\n",
    "        \n",
    "print(list(zip(x,y))) # zip matches up elements from both lists\n",
    "\n",
    "for i, j in zip(x,y):\n",
    "    if i == j:\n",
    "        print(\"Same\")\n",
    "    else:\n",
    "        print(\"Not Same\")\n"
   ]
  },
  {
   "cell_type": "markdown",
   "metadata": {},
   "source": [
    "<hr style=\"border:2px solid gray\"> </hr>   \n",
    "\n",
    "## Practice Task   \n",
    "#### 1. Write a program to read through the data/mbox-short.txt and figure out the line indexes (starting at zero) that contain emails. Every line that contains an email starts with \"From \". Store the indexes in a list called *indexes*.\n",
    "<br /> \n",
    "<details>    \n",
    "<summary>\n",
    "    <font size=\"3\" color=\"red\"><b>Hints (click to expand)</b></font>\n",
    "</summary>\n",
    "<p>\n",
    "    <ul>\n",
    "        <li>Which of the discussed methods can you use?</li>\n",
    "        <li>Instead of storing the emails, store their line indexes.</li>\n",
    "    </ul>\n",
    "</p>\n",
    "</details>"
   ]
  },
  {
   "cell_type": "code",
   "execution_count": 38,
   "metadata": {},
   "outputs": [
    {
     "name": "stdout",
     "output_type": "stream",
     "text": [
      "[0, 65, 130, 194, 262, 335, 414, 493, 572, 638, 704, 769, 835, 904, 969, 1046, 1120, 1206, 1275, 1353, 1439, 1503, 1568, 1633, 1697, 1762, 1837]\n",
      "True\n"
     ]
    }
   ],
   "source": [
    "indexes = []\n",
    "# START YOUR CODE HERE.\n",
    "#1. Write a program to read through the data/mbox-short.txt \n",
    "indexes=[]\n",
    "count = -1 # first one starts at 0!\n",
    "with open(\"data/mbox-short.txt\", \"r\") as file:\n",
    "    file = file.readlines()\n",
    "    for index, each in enumerate(file):\n",
    "    #for each in file:\n",
    "     #   count+=1\n",
    "        if not each.startswith(\"From \"):\n",
    "            continue\n",
    "        #indexes.append(count)\n",
    "        indexes.append(index)\n",
    "print(indexes)\n",
    "#and figure out the line indexes (starting at zero) that contain emails. \n",
    "#Every line that contains an email starts with \"From \". \n",
    "#Store the indexes in a list called indexes.\n",
    "print(indexes[2] == 130)\n"
   ]
  },
  {
   "cell_type": "code",
   "execution_count": 39,
   "metadata": {},
   "outputs": [],
   "source": [
    "# THIS CELL TESTS YOUR RESULTS.\n",
    "assert len(indexes) == 27, \"It seems as you did filter out not every line index!\"\n",
    "assert indexes[2] == 130, \"You filtered out a wrong line!\"\n",
    "assert indexes[-1] == 1837, \"Your filtered out a wrong line!\""
   ]
  },
  {
   "cell_type": "markdown",
   "metadata": {},
   "source": [
    "<details>\n",
    "<summary>\n",
    "    <font size=\"3\" color=\"darkgreen\"><b>Solution (click to expand)</b></font>\n",
    "</summary>\n",
    "<p>\n",
    "    <code>indexes = []</code><br />\n",
    "    <code>with open(\"data/mbox-short.txt\", \"r\") as file:</code><br />\n",
    "    <code>&nbsp;&nbsp;&nbsp;&nbsp;file = file.readlines()</code><br />\n",
    "    <code>for index, line in enumerate(file):</code><br />\n",
    "    <code>&nbsp;&nbsp;&nbsp;&nbsp;if not line.startswith(\"From \"):</code><br />\n",
    "    <code>&nbsp;&nbsp;&nbsp;&nbsp;&nbsp;&nbsp;&nbsp;&nbsp;continue</code><br />\n",
    "    <code>&nbsp;&nbsp;&nbsp;&nbsp;indexes.append(index)</code>\n",
    "</p>\n",
    "</details>   \n",
    "   \n",
    "#### 2. Write a program to read through the data/mbox-short.txt and figure out emails as well as their line indexes. Lines that contain emails start with \"From \". Store the pairs in a list of tuples named *pairs* that have the format (index, email). Sort this list with regard to the emails in alphabetical order.\n",
    "<br /> \n",
    "<details>\n",
    "<summary>\n",
    "    <font size=\"3\" color=\"red\"><b>Hints (click to expand)</b></font>\n",
    "</summary>\n",
    "<p>\n",
    "    <ul>\n",
    "        <li>First, store each email with their regarding index in a list as a tuple.</li>\n",
    "        <li>Second, sort this list with regard to the emails in alphabetical order.</li>\n",
    "    </ul>\n",
    "</p>\n",
    "</details>"
   ]
  },
  {
   "cell_type": "code",
   "execution_count": 50,
   "metadata": {},
   "outputs": [
    {
     "name": "stdout",
     "output_type": "stream",
     "text": [
      "[(969, 'antranig@caret.cam.ac.uk'), (414, 'cwen@iupui.edu'), (493, 'cwen@iupui.edu'), (1697, 'cwen@iupui.edu'), (1762, 'cwen@iupui.edu'), (1837, 'cwen@iupui.edu'), (1120, 'david.horwitz@uct.ac.za'), (1206, 'david.horwitz@uct.ac.za'), (1275, 'david.horwitz@uct.ac.za'), (1353, 'david.horwitz@uct.ac.za'), (1046, 'gopal.ramasammycook@gmail.com'), (572, 'gsilver@umich.edu'), (638, 'gsilver@umich.edu'), (769, 'gsilver@umich.edu'), (65, 'louis@media.berkeley.edu'), (1503, 'louis@media.berkeley.edu'), (1568, 'louis@media.berkeley.edu'), (1633, 'ray@media.berkeley.edu'), (194, 'rjlowe@iupui.edu'), (335, 'rjlowe@iupui.edu'), (0, 'stephen.marquard@uct.ac.za'), (1439, 'stephen.marquard@uct.ac.za'), (835, 'wagnermr@iupui.edu'), (130, 'zqian@umich.edu'), (262, 'zqian@umich.edu'), (704, 'zqian@umich.edu'), (904, 'zqian@umich.edu')]\n"
     ]
    }
   ],
   "source": [
    "pairs = []\n",
    "# START YOUR CODE HERE.\n",
    "#2. Write a program to read through the data/mbox-short.txt \n",
    "pairs = []\n",
    "with open(\"data/mbox-short.txt\", \"r\") as file:\n",
    "    file = file.readlines()\n",
    "    for index, each in enumerate(file):\n",
    "        if not each.startswith(\"From \"):\n",
    "            continue\n",
    "        #text = each.split()\n",
    "        pairs.append((index, each.split()[1]))\n",
    "\n",
    "#sortkey = lambda pairs: pairs[1]\n",
    "#pairs.sort(key=sortkey, reverse = False)\n",
    "pairs = sorted(pairs, key=lambda pairs: pairs[1])\n",
    "print(pairs)\n",
    "#and figure out emails as well as their line indexes. \n",
    "#Lines that contain emails start with \"From \". \n",
    "#Store the pairs in a list of tuples named pairs \n",
    "#that have the format (index, email). \n",
    "#Sort this list with regard to the emails in alphabetical order."
   ]
  },
  {
   "cell_type": "code",
   "execution_count": 47,
   "metadata": {},
   "outputs": [],
   "source": [
    "# THIS CELL TESTS YOUR RESULTS.\n",
    "assert len(pairs) == 27, \"It seems as you did not filter out every pair!\"\n",
    "assert pairs[2][0] == 493, \"You filtered out a wrong pair!\"\n",
    "assert pairs[-1][0] == 904, \"Your filtered out a wrong pair!\""
   ]
  },
  {
   "cell_type": "markdown",
   "metadata": {},
   "source": [
    "<details>    \n",
    "<summary>\n",
    "    <font size=\"3\" color=\"darkgreen\"><b>Solution (click to expand)</b></font>\n",
    "</summary>\n",
    "<p>\n",
    "    <code>pairs = []</code><br />\n",
    "    <code>with open(\"data/mbox-short.txt\", \"r\") as file:</code><br />\n",
    "    <code>&nbsp;&nbsp;&nbsp;&nbsp;file = file.readlines()</code><br />\n",
    "    <code>for index, line in enumerate(file):</code><br />\n",
    "    <code>&nbsp;&nbsp;&nbsp;&nbsp;if not line.startswith(\"From \"):</code><br />\n",
    "    <code>&nbsp;&nbsp;&nbsp;&nbsp;&nbsp;&nbsp;&nbsp;&nbsp;continue</code><br />\n",
    "    <code>&nbsp;&nbsp;&nbsp;&nbsp;pairs.append((index, line.split()[1]))</code><br />\n",
    "    <code>pairs = sorted(pairs, key = lambda x: x[1])</code><br />\n",
    "</p>\n",
    "</details>   "
   ]
  }
 ],
 "metadata": {
  "kernelspec": {
   "display_name": "Python 3",
   "language": "python",
   "name": "python3"
  },
  "language_info": {
   "codemirror_mode": {
    "name": "ipython",
    "version": 3
   },
   "file_extension": ".py",
   "mimetype": "text/x-python",
   "name": "python",
   "nbconvert_exporter": "python",
   "pygments_lexer": "ipython3",
   "version": "3.7.4"
  }
 },
 "nbformat": 4,
 "nbformat_minor": 5
}
